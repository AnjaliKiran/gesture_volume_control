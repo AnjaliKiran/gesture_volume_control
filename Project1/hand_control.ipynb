{
 "cells": [
  {
   "cell_type": "code",
   "execution_count": 1,
   "id": "ca1d6987-ee23-4b7d-9546-9a1b4a34056f",
   "metadata": {},
   "outputs": [],
   "source": [
    "import cv2\n",
    "import time\n",
    "import numpy as np\n",
    "import math\n",
    "from ctypes import cast,POINTER\n",
    "from comtypes import CLSCTX_ALL\n",
    "from pycaw.pycaw import AudioUtilities, IAudioEndpointVolume\n"
   ]
  },
  {
   "cell_type": "code",
   "execution_count": 2,
   "id": "659a9a48-bd0d-41b2-9f93-78497a055129",
   "metadata": {},
   "outputs": [],
   "source": [
    "from ipynb.fs.full.HandTrackingModule import handDetector\n",
    "from pynput.keyboard import Key,Controller\n",
    "keyboard = Controller()"
   ]
  },
  {
   "cell_type": "code",
   "execution_count": 3,
   "id": "f312b647-7527-4237-8cfc-ce006689c241",
   "metadata": {},
   "outputs": [],
   "source": [
    "wCam, hCam = 640,480\n",
    "cap = cv2.VideoCapture(0)\n",
    "cap.set(3,wCam)\n",
    "cap.set(4,hCam)\n",
    "pTime = 0\n",
    "\n",
    "detector = handDetector(detectionCon=0.7)\n",
    "\n",
    "\n",
    "last_angle=None\n",
    "last_length=None\n",
    "\n",
    "\n",
    "\n",
    "minAngle = 0\n",
    "maxAngle = 180\n",
    "angle    = 0\n",
    "angleBar = 400\n",
    "angleDeg = 0\n",
    "minHand  = 50 #50\n",
    "maxHand  = 300 #300"
   ]
  },
  {
   "cell_type": "code",
   "execution_count": null,
   "id": "b55d0c14-5b44-425f-90fd-e0e28c24d409",
   "metadata": {},
   "outputs": [],
   "source": [
    "while True:\n",
    "    success, img = cap.read()\n",
    "    img = detector.findHands(img)\n",
    "    lmList = detector.findPosition(img, draw=False)\n",
    "    if len(lmList) !=0:\n",
    "        #print(lmList[4],lmList[8])\n",
    "        \n",
    "        x1,y1= lmList[4][1],lmList[4][2]\n",
    "        x2,y2= lmList[8][1],lmList[8][2]\n",
    "        cx,cy = (x1+x2)//2, (y1+y2)//2\n",
    "        \n",
    "        cv2.circle(img,(x1,y1), 15, (255,0,255),cv2.FILLED)\n",
    "        cv2.circle(img,(x2,y2), 15, (255,0,255),cv2.FILLED)\n",
    "        cv2.line(img,(x1,y1),(x2,y2), (255,0,255), 3)\n",
    "        cv2.circle(img,(cx,cy), 15, (255,0,255),cv2.FILLED)\n",
    "        \n",
    "        length = math.hypot(x2-x1,y2-y1)\n",
    "        # print(length)\n",
    "        \n",
    "        # Hand range 50 - 300\n",
    "        \n",
    "        angle  = np.interp(length, [minHand, maxHand], [minAngle, maxAngle])\n",
    "        angleBar = np.interp(length, [minHand, maxHand], [400, 150])\n",
    "        angleDeg = np.interp(length, [minHand, maxHand], [0, 180])   # degree angle 0 - 180\n",
    "       \n",
    "\n",
    "        if last_length:\n",
    "            if length>last_length:\n",
    "                keyboard.press(Key.media_volume_up)\n",
    "                keyboard.release(Key.media_volume_up)\n",
    "                print(\"VOL UP\")\n",
    "            elif length<last_length:\n",
    "                keyboard.press(Key.media_volume_down)\n",
    "                keyboard.release(Key.media_volume_down)\n",
    "                print(\"VOL DOWN\")\n",
    "        \n",
    "        last_angle=angle\n",
    "        last_length=length\n",
    "\n",
    "        # print(int(length), angle)\n",
    "        \n",
    "        if length<50:\n",
    "            cv2.circle(img,(cx,cy), 15, (0,255,0),cv2.FILLED)\n",
    "            \n",
    "    cv2.rectangle(img, (50, 100), (85, 400), (255, 0, 0), 3)\n",
    "    cv2.rectangle(img, (50, int(angleBar)), (85, 400), (255, 0, 0), cv2.FILLED)\n",
    "    cv2.putText(img, f'{int(angleDeg)} %', (40, 90), cv2.FONT_HERSHEY_COMPLEX,\n",
    "                2, (0, 9, 255), 3)\n",
    "    \n",
    "    \n",
    "    cv2.imshow(\"Img\",img)\n",
    "    cv2.waitKey(1)"
   ]
  },
  {
   "cell_type": "code",
   "execution_count": 38,
   "id": "22524746-75d7-4dc4-9ff5-477536c2d8a5",
   "metadata": {},
   "outputs": [],
   "source": []
  },
  {
   "cell_type": "code",
   "execution_count": 39,
   "id": "d0406691-9b7a-4f74-a4f7-d217aaeb6052",
   "metadata": {},
   "outputs": [
    {
     "ename": "error",
     "evalue": "OpenCV(4.5.3) C:\\Users\\runneradmin\\AppData\\Local\\Temp\\pip-req-build-u4kjpz2z\\opencv\\modules\\imgproc\\src\\color.cpp:182: error: (-215:Assertion failed) !_src.empty() in function 'cv::cvtColor'\n",
     "output_type": "error",
     "traceback": [
      "\u001b[1;31m---------------------------------------------------------------------------\u001b[0m",
      "\u001b[1;31merror\u001b[0m                                     Traceback (most recent call last)",
      "\u001b[1;32m<ipython-input-39-b32eb416106c>\u001b[0m in \u001b[0;36m<module>\u001b[1;34m\u001b[0m\n\u001b[0;32m      1\u001b[0m \u001b[1;32mwhile\u001b[0m \u001b[1;32mTrue\u001b[0m\u001b[1;33m:\u001b[0m\u001b[1;33m\u001b[0m\u001b[1;33m\u001b[0m\u001b[0m\n\u001b[0;32m      2\u001b[0m     \u001b[0msuccess\u001b[0m\u001b[1;33m,\u001b[0m \u001b[0mimg\u001b[0m \u001b[1;33m=\u001b[0m \u001b[0mcap\u001b[0m\u001b[1;33m.\u001b[0m\u001b[0mread\u001b[0m\u001b[1;33m(\u001b[0m\u001b[1;33m)\u001b[0m\u001b[1;33m\u001b[0m\u001b[1;33m\u001b[0m\u001b[0m\n\u001b[1;32m----> 3\u001b[1;33m     \u001b[0mimg\u001b[0m \u001b[1;33m=\u001b[0m \u001b[0mdetector\u001b[0m\u001b[1;33m.\u001b[0m\u001b[0mfindHands\u001b[0m\u001b[1;33m(\u001b[0m\u001b[0mimg\u001b[0m\u001b[1;33m)\u001b[0m\u001b[1;33m\u001b[0m\u001b[1;33m\u001b[0m\u001b[0m\n\u001b[0m\u001b[0;32m      4\u001b[0m     \u001b[0mlmList\u001b[0m \u001b[1;33m=\u001b[0m \u001b[0mdetector\u001b[0m\u001b[1;33m.\u001b[0m\u001b[0mfindPosition\u001b[0m\u001b[1;33m(\u001b[0m\u001b[0mimg\u001b[0m\u001b[1;33m,\u001b[0m \u001b[0mdraw\u001b[0m\u001b[1;33m=\u001b[0m\u001b[1;32mFalse\u001b[0m\u001b[1;33m)\u001b[0m\u001b[1;33m\u001b[0m\u001b[1;33m\u001b[0m\u001b[0m\n\u001b[0;32m      5\u001b[0m     \u001b[1;32mif\u001b[0m \u001b[0mlen\u001b[0m\u001b[1;33m(\u001b[0m\u001b[0mlmList\u001b[0m\u001b[1;33m)\u001b[0m \u001b[1;33m!=\u001b[0m \u001b[1;36m0\u001b[0m\u001b[1;33m:\u001b[0m\u001b[1;33m\u001b[0m\u001b[1;33m\u001b[0m\u001b[0m\n",
      "\u001b[1;32m~\\Documents\\Project1\\HandTrackingModule.ipynb\u001b[0m in \u001b[0;36mfindHands\u001b[1;34m(self, img, draw)\u001b[0m\n\u001b[0;32m     21\u001b[0m    \"source\": [\n\u001b[0;32m     22\u001b[0m     \u001b[1;34m\"class handDetector():\\n\"\u001b[0m\u001b[1;33m,\u001b[0m\u001b[1;33m\u001b[0m\u001b[1;33m\u001b[0m\u001b[0m\n\u001b[1;32m---> 23\u001b[1;33m     \u001b[1;34m\"    def __init__(self, mode=False, maxHands=2, detectionCon=0.5, trackCon=0.5):\\n\"\u001b[0m\u001b[1;33m,\u001b[0m\u001b[1;33m\u001b[0m\u001b[1;33m\u001b[0m\u001b[0m\n\u001b[0m\u001b[0;32m     24\u001b[0m     \u001b[1;34m\"        self.mode = mode\\n\"\u001b[0m\u001b[1;33m,\u001b[0m\u001b[1;33m\u001b[0m\u001b[1;33m\u001b[0m\u001b[0m\n\u001b[0;32m     25\u001b[0m     \u001b[1;34m\"        self.maxHands = maxHands\\n\"\u001b[0m\u001b[1;33m,\u001b[0m\u001b[1;33m\u001b[0m\u001b[1;33m\u001b[0m\u001b[0m\n",
      "\u001b[1;31merror\u001b[0m: OpenCV(4.5.3) C:\\Users\\runneradmin\\AppData\\Local\\Temp\\pip-req-build-u4kjpz2z\\opencv\\modules\\imgproc\\src\\color.cpp:182: error: (-215:Assertion failed) !_src.empty() in function 'cv::cvtColor'\n"
     ]
    }
   ],
   "source": []
  },
  {
   "cell_type": "code",
   "execution_count": null,
   "id": "63ce0fc7-8b6c-40f4-989b-75e60564ae89",
   "metadata": {},
   "outputs": [],
   "source": []
  }
 ],
 "metadata": {
  "kernelspec": {
   "display_name": "Python 3",
   "language": "python",
   "name": "python3"
  },
  "language_info": {
   "codemirror_mode": {
    "name": "ipython",
    "version": 3
   },
   "file_extension": ".py",
   "mimetype": "text/x-python",
   "name": "python",
   "nbconvert_exporter": "python",
   "pygments_lexer": "ipython3",
   "version": "3.8.8"
  }
 },
 "nbformat": 4,
 "nbformat_minor": 5
}
